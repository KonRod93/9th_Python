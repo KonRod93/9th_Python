{
  "nbformat": 4,
  "nbformat_minor": 0,
  "metadata": {
    "colab": {
      "provenance": []
    },
    "kernelspec": {
      "name": "python3",
      "display_name": "Python 3"
    },
    "language_info": {
      "name": "python"
    }
  },
  "cells": [
    {
      "cell_type": "code",
      "execution_count": 1,
      "metadata": {
        "id": "zky1B5yhYgIu"
      },
      "outputs": [],
      "source": [
        "import pandas as pd\n",
        "\n",
        "df = pd.read_csv('/content/sample_data/california_housing_test.csv')"
      ]
    },
    {
      "cell_type": "code",
      "source": [
        "df.columns"
      ],
      "metadata": {
        "colab": {
          "base_uri": "https://localhost:8080/"
        },
        "id": "1zKwRvYTbk1I",
        "outputId": "176f0e03-f0ed-42fc-ea65-268660a72b48"
      },
      "execution_count": 7,
      "outputs": [
        {
          "output_type": "execute_result",
          "data": {
            "text/plain": [
              "Index(['longitude', 'latitude', 'housing_median_age', 'total_rooms',\n",
              "       'total_bedrooms', 'population', 'households', 'median_income',\n",
              "       'median_house_value'],\n",
              "      dtype='object')"
            ]
          },
          "metadata": {},
          "execution_count": 7
        }
      ]
    },
    {
      "cell_type": "code",
      "source": [
        "# Задача 1\n",
        "# Работать с файлом california_housing_train.csv, который находится в папке sample_data. Определить среднюю стоимость дома, где кол-во людей от 0 до 500 (population).\n",
        "\n",
        "df[\n",
        "    df['population'] <= 500\n",
        "].median_house_value"
      ],
      "metadata": {
        "colab": {
          "base_uri": "https://localhost:8080/"
        },
        "id": "AZVyjWx_ZuyF",
        "outputId": "e8336b54-3421-44bd-e5b2-1b06a80f6813"
      },
      "execution_count": 24,
      "outputs": [
        {
          "output_type": "execute_result",
          "data": {
            "text/plain": [
              "3       330000.0\n",
              "15      153100.0\n",
              "16      181300.0\n",
              "34      183800.0\n",
              "51       47500.0\n",
              "          ...   \n",
              "2929    179200.0\n",
              "2947    140600.0\n",
              "2960    500001.0\n",
              "2992    500001.0\n",
              "2998    162500.0\n",
              "Name: median_house_value, Length: 305, dtype: float64"
            ]
          },
          "metadata": {},
          "execution_count": 24
        }
      ]
    },
    {
      "cell_type": "code",
      "source": [
        "# Задача 2\n",
        "# Работать с файлом california_housing_train.csv, который находится в папке sample_data. Узнать какая максимальная households в зоне минимального значения population.\n",
        "\n",
        "max_house = df.households.max()\n",
        "df[\n",
        "    df['households'] == max_house\n",
        "].population.min()"
      ],
      "metadata": {
        "colab": {
          "base_uri": "https://localhost:8080/"
        },
        "id": "ccB7HlCxZVXR",
        "outputId": "797b3e90-4885-442e-e7d1-7a3e289796eb"
      },
      "execution_count": 21,
      "outputs": [
        {
          "output_type": "execute_result",
          "data": {
            "text/plain": [
              "7431.0"
            ]
          },
          "metadata": {},
          "execution_count": 21
        }
      ]
    }
  ]
}